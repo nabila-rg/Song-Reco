{
 "cells": [
  {
   "cell_type": "markdown",
   "id": "5b763d90",
   "metadata": {},
   "source": [
    "#### Song Recommendation Project \n",
    " Nabila Fakhruddin\n",
    " \n"
   ]
  },
  {
   "cell_type": "code",
   "execution_count": null,
   "id": "b5095ca6",
   "metadata": {},
   "outputs": [],
   "source": [
    "# importing important libraries\n",
    "import pandas as pd\n",
    "import numpy as np\n",
    "import seaborn as sns\n",
    "import matplotlib.pyplot as plt\n",
    "from sklearn import linear_model  # will be using for plotting trend line\n",
    "from sklearn.preprocessing import MinMaxScaler # for normalizing data\n",
    "from sklearn.cluster import KMeans \n",
    "from sklearn import preprocessing\n",
    "%matplotlib inline\n",
    "import seaborn as sns\n",
    "import plotly.express as px "
   ]
  },
  {
   "cell_type": "code",
   "execution_count": null,
   "id": "b9d28ddc",
   "metadata": {},
   "outputs": [],
   "source": [
    "# importing data\n",
    "df_song = pd.read_csv('data.csv')\n",
    "print(df_song.shape)\n",
    "\n",
    "# Removed the Duplicate Songs by Same Artist and take only entry with Maximum popularity\n",
    "df_song = df_song.sort_values('popularity', ascending=False).drop_duplicates(['name', 'artists']).sort_index()\n",
    "print(df_song.shape)"
   ]
  },
  {
   "cell_type": "code",
   "execution_count": null,
   "id": "8ad04fe9",
   "metadata": {},
   "outputs": [],
   "source": [
    "# viewing the dataset\n",
    "df_song.head(3)"
   ]
  },
  {
   "cell_type": "code",
   "execution_count": null,
   "id": "186209c4",
   "metadata": {},
   "outputs": [],
   "source": [
    "# preprocessing the data of songs\n",
    "df_song['artists'] = df_song['artists'].apply(lambda x: x[1:-1].replace(\"'\", ''))\n",
    "df_song['release_date'] = pd.to_datetime(df_song['release_date'])"
   ]
  },
  {
   "cell_type": "code",
   "execution_count": null,
   "id": "46e9dc5c",
   "metadata": {},
   "outputs": [],
   "source": [
    "# viewing at the dataset info\n",
    "df_song.info()"
   ]
  },
  {
   "cell_type": "code",
   "execution_count": null,
   "id": "6c4431ff",
   "metadata": {},
   "outputs": [],
   "source": [
    "# finding correlation\n",
    "corr = df_song.corr()\n",
    "\n",
    "# visualizing correlation with heatmap\n",
    "plt.figure(figsize=(20,8))\n",
    "sns.heatmap(corr, vmax=1, vmin=-1, center=0,linewidth=.5,square=True, annot = True, annot_kws = {'size':8},fmt='.1f', cmap='Spectral')\n",
    "plt.title('Correlation')\n",
    "plt.show()"
   ]
  },
  {
   "cell_type": "markdown",
   "id": "b717f370",
   "metadata": {},
   "source": [
    "##### There is strong positive corelation between valence & danceability, year & loudness, year & energy, year & popularity, energy & loudness, \n",
    "##### There is strong negative corelation between year & acousticness, acousticness & energy, acousticness & loudness, acousticness & popularity, \n",
    "\n",
    "##### over the time we have seen that loudness & energy have taken the front seat in music choices.\n",
    "##### over the year acousticness have decreased as many instruments are availabe in the market, also, with decrease in acousticness, loudness and energy have increased "
   ]
  },
  {
   "cell_type": "code",
   "execution_count": null,
   "id": "66c13457",
   "metadata": {},
   "outputs": [],
   "source": [
    "# importing genre data, years and atist data\n",
    "df_genre = pd.read_csv('data_by_genres.csv')\n",
    "data_by_year = pd.read_csv('data_by_year.csv')\n",
    "df_artists = pd.read_csv('data_by_artist.csv')"
   ]
  },
  {
   "cell_type": "code",
   "execution_count": null,
   "id": "4f1a1432",
   "metadata": {},
   "outputs": [],
   "source": [
    "print(\"----------------------------------------By Genre-------------------------------------------\")\n",
    "df_genre.info()\n",
    "print(\"\\n----------------------------------------By Year-------------------------------------------\")\n",
    "data_by_year.info()\n",
    "print(\"\\n----------------------------------------By Artist-------------------------------------------\")\n",
    "df_artists.info()"
   ]
  },
  {
   "cell_type": "code",
   "execution_count": null,
   "id": "4cdd315e",
   "metadata": {},
   "outputs": [],
   "source": [
    "df_genre.head(3)"
   ]
  },
  {
   "cell_type": "code",
   "execution_count": null,
   "id": "b3d4429d",
   "metadata": {},
   "outputs": [],
   "source": [
    "data_by_year.head(3)"
   ]
  },
  {
   "cell_type": "code",
   "execution_count": null,
   "id": "76cf12a1",
   "metadata": {},
   "outputs": [],
   "source": [
    "df_artists.head(3)"
   ]
  },
  {
   "cell_type": "code",
   "execution_count": null,
   "id": "cd087caa",
   "metadata": {},
   "outputs": [],
   "source": [
    "#pip install yellowbrick"
   ]
  },
  {
   "cell_type": "code",
   "execution_count": null,
   "id": "94aca773",
   "metadata": {},
   "outputs": [],
   "source": [
    "# breaking the year into decades for analysis\n",
    "def get_decade(year):\n",
    "    period_start = int(year/10) * 10\n",
    "    decade = '{}s'.format(period_start)\n",
    "    return decade\n",
    "\n",
    "df_song['decade'] = df_song['year'].apply(get_decade)\n",
    "df_song.head()\n",
    "\n",
    "# plotting the decades and how many songs were in that decade\n",
    "sns.set(rc={'figure.figsize':(11 ,6)})\n",
    "sns.countplot(df_song['decade'])"
   ]
  },
  {
   "cell_type": "markdown",
   "id": "a2778a66",
   "metadata": {},
   "source": [
    "##### Number of songs are consistent since 1950s and there is very less Temporal Bias in the Dataset"
   ]
  },
  {
   "cell_type": "code",
   "execution_count": null,
   "id": "b85bf01e",
   "metadata": {},
   "outputs": [],
   "source": [
    "# Trend of various song features over the decade\n",
    "sound_features = ['acousticness', 'danceability', 'energy', 'instrumentalness', 'liveness', 'valence','speechiness']\n",
    "fig = px.line(data_by_year, x='year', y=sound_features)\n",
    "fig.show()"
   ]
  },
  {
   "cell_type": "markdown",
   "id": "20b34f88",
   "metadata": {},
   "source": [
    "##### with the increase in time energy has increased while at the same time acousticness has decreased drastically. Between 1930 and 1950 speechiness varied a lot, but after that it reamined stagnant"
   ]
  },
  {
   "cell_type": "code",
   "execution_count": null,
   "id": "52fd47ca",
   "metadata": {},
   "outputs": [],
   "source": [
    "sns.pairplot(data_by_year[sound_features])\n",
    "\n",
    "# Show plots\n",
    "plt.show()"
   ]
  },
  {
   "cell_type": "markdown",
   "id": "2e29d13e",
   "metadata": {},
   "source": [
    "##### There is stong negative correlation between acousticness and energy."
   ]
  },
  {
   "cell_type": "code",
   "execution_count": null,
   "id": "645754be",
   "metadata": {},
   "outputs": [],
   "source": [
    "top10_genres = df_genre.nlargest(10, 'popularity')\n",
    "fig = px.bar(top10_genres, x='genres', y=['valence', 'energy', 'danceability', 'acousticness'], barmode='group')\n",
    "fig.show()"
   ]
  },
  {
   "cell_type": "code",
   "execution_count": null,
   "id": "501fc4d6",
   "metadata": {},
   "outputs": [],
   "source": [
    "bottem10_genres = df_genre.nsmallest(10, 'popularity')\n",
    "fig = px.bar(bottem10_genres, x='genres', y=['valence', 'energy', 'danceability', 'acousticness'], barmode='group')\n",
    "fig.show()"
   ]
  },
  {
   "cell_type": "markdown",
   "id": "457e504a",
   "metadata": {},
   "source": [
    "##### in the top 10 grenre by popularity, danceability is dominating, whereas, in the bottom 10, acousticness was dominating."
   ]
  },
  {
   "cell_type": "markdown",
   "id": "6d4f8cb5",
   "metadata": {},
   "source": [
    "### Grouping on the basis of Genre using k-means clustering technique"
   ]
  },
  {
   "cell_type": "code",
   "execution_count": null,
   "id": "8cc210fa",
   "metadata": {},
   "outputs": [],
   "source": [
    "from sklearn.cluster import KMeans\n",
    "from sklearn.preprocessing import StandardScaler\n",
    "from sklearn.pipeline import Pipeline\n",
    "\n",
    "# getting the numerical values of genre data\n",
    "cluster_pipeline_genre = Pipeline([('scaler', StandardScaler()), ('kmeans', KMeans(n_clusters=10))])\n",
    "X_genre = df_genre.select_dtypes(np.number)\n",
    "\n",
    "# forming clusters of the gernre\n",
    "cluster_pipeline_genre.fit(X_genre)\n",
    "df_genre['cluster'] = cluster_pipeline_genre.predict(X_genre)"
   ]
  },
  {
   "cell_type": "code",
   "execution_count": null,
   "id": "ddddd455",
   "metadata": {
    "scrolled": false
   },
   "outputs": [],
   "source": [
    "from sklearn.manifold import TSNE\n",
    "\n",
    "# Pipeline object being created\n",
    "tsne_pipeline = Pipeline([('scaler', StandardScaler()), ('tsne', TSNE(n_components=2, verbose=2))])\n",
    "\n",
    "# using the object above for reducing the components \n",
    "genre_embedding = tsne_pipeline.fit_transform(X_genre)\n",
    "\n",
    "# creating a new dataframe projection_genre with 1st two columns same as genre_embedding\n",
    "projection_genre = pd.DataFrame(columns=['x', 'y'], data=genre_embedding) \n",
    "\n",
    "# creating 2 new columns for the projection_genre dataframe\n",
    "projection_genre['genres'] = df_genre['genres']\n",
    "projection_genre['cluster'] = df_genre['cluster']"
   ]
  },
  {
   "cell_type": "code",
   "execution_count": null,
   "id": "9ec0b339",
   "metadata": {},
   "outputs": [],
   "source": [
    "import plotly\n",
    "import plotly.express as px\n",
    "fig = px.scatter(projection_genre, x='x', y='y', color='cluster', hover_data=['x', 'y','genres']) \n",
    "fig.show()"
   ]
  },
  {
   "cell_type": "code",
   "execution_count": null,
   "id": "165073f1",
   "metadata": {},
   "outputs": [],
   "source": [
    "# creating 3 components through PCA\n",
    "from sklearn.decomposition import PCA\n",
    "\n",
    "# Pipeline object being created\n",
    "pca_pipeline_genre = Pipeline([('scaler', StandardScaler()), ('PCA', PCA(n_components=3))])\n",
    "\n",
    "# using the object above for reducing the components\n",
    "genre_embedding = pca_pipeline_genre.fit_transform(X_genre)\n",
    "\n",
    "# creating a new dataframe projection_genre with 1st two columns same as genre_embedding\n",
    "projection_genre = pd.DataFrame(columns=['x','y','z'], data=genre_embedding)\n",
    "\n",
    "# creating 2 new columns for the projection_genre dataframe\n",
    "projection_genre['genres'] = df_genre['genres']\n",
    "projection_genre['cluster'] = df_genre['cluster']\n",
    "\n",
    "# plotting the cluster in 3D\n",
    "fig = px.scatter_3d(projection_genre, x='x', y='y',z='z', color='cluster', hover_data=['x', 'y','z', 'genres'])\n",
    "fig.show()"
   ]
  },
  {
   "cell_type": "markdown",
   "id": "dfc2dd99",
   "metadata": {},
   "source": [
    "#### Grouping on the basis of Song using k-means clustering technique"
   ]
  },
  {
   "cell_type": "code",
   "execution_count": null,
   "id": "805f08cd",
   "metadata": {},
   "outputs": [],
   "source": [
    "# creating pipeline object\n",
    "song_cluster_pipeline = Pipeline([('scaler', StandardScaler()), \n",
    "                                  ('kmeans', KMeans(n_clusters=20, \n",
    "                                   verbose=False))\n",
    "                                 ], verbose=False)\n",
    "\n",
    "# getting the numerical values of song data\n",
    "X = df_song.select_dtypes(np.number)\n",
    "\n",
    "# forming clusters of the gernre\n",
    "number_cols = list(X.columns)\n",
    "song_cluster_pipeline.fit(X)\n",
    "song_cluster_labels = song_cluster_pipeline.predict(X)\n",
    "df_song['cluster_label'] = song_cluster_labels"
   ]
  },
  {
   "cell_type": "code",
   "execution_count": null,
   "id": "df0a0b4d",
   "metadata": {},
   "outputs": [],
   "source": [
    "# Visualizing the Clusters with PCA\n",
    "from sklearn.decomposition import PCA\n",
    "\n",
    "# Pipeline object being created for 2 components\n",
    "pca_pipeline = Pipeline([('scaler', StandardScaler()), ('PCA', PCA(n_components=2))])\n",
    "\n",
    "# using the object above for reducing the components\n",
    "song_embedding = pca_pipeline.fit_transform(X)\n",
    "\n",
    "# creating a new dataframe projection with 1st two columns same as song_embedding\n",
    "projection = pd.DataFrame(columns=['x', 'y'], data=song_embedding)\n",
    "\n",
    "# creating 2 new columns for the projection  dataframe\n",
    "projection['title'] = df_song['name']\n",
    "projection['cluster'] = df_song['cluster_label']\n",
    "\n",
    "# plotting the 2D graph\n",
    "fig = px.scatter(projection, x='x', y='y', color='cluster', hover_data=['x', 'y', 'title'])\n",
    "fig.show()"
   ]
  },
  {
   "cell_type": "code",
   "execution_count": null,
   "id": "41d565dd",
   "metadata": {},
   "outputs": [],
   "source": [
    "X_temp = df_song.select_dtypes(np.number).drop(columns = ['cluster_label'])\n",
    "X_temp.head()"
   ]
  },
  {
   "cell_type": "code",
   "execution_count": null,
   "id": "ad6a5ff8",
   "metadata": {},
   "outputs": [],
   "source": [
    "scaler = StandardScaler()\n",
    "\n",
    "scaler.fit(X_temp)\n",
    "X_temp=scaler.transform(X_temp)    \n",
    "pca = PCA()\n",
    "x_new = pca.fit_transform(X_temp)"
   ]
  },
  {
   "cell_type": "code",
   "execution_count": null,
   "id": "d3477690",
   "metadata": {},
   "outputs": [],
   "source": [
    "def myplot(score,coeff,labels=None):\n",
    "    xs = score[:,0]\n",
    "    ys = score[:,1]\n",
    "    n = coeff.shape[0]\n",
    "    scalex = 1.0/(xs.max() - xs.min())\n",
    "    scaley = 1.0/(ys.max() - ys.min())\n",
    "    plt.scatter(xs * scalex,ys * scaley, c = df_song['cluster_label'])\n",
    "    for i in range(n):\n",
    "        plt.arrow(0, 0, coeff[i,0], coeff[i,1],color = 'r',alpha = 0.5)\n",
    "        if labels is None:\n",
    "            plt.text(coeff[i,0]* 1.15, coeff[i,1] * 1.15, \"Var\"+str(i+1), color = 'b', ha = 'center', va = 'center')\n",
    "        else:\n",
    "            plt.text(coeff[i,0]* 1.15, coeff[i,1] * 1.15, labels[i], color = 'b', ha = 'center', va = 'center')\n",
    "plt.xlim(-0.6,0.6)\n",
    "plt.ylim(-0.75,0.75)\n",
    "plt.xlabel(\"PC{}\".format(1))\n",
    "plt.ylabel(\"PC{}\".format(2))\n",
    "plt.grid()\n",
    "\n",
    "#Call the function. Use only the 2 PCs.\n",
    "myplot(x_new[:,0:2],np.transpose(pca.components_[0:2, :]))\n",
    "plt.show()\n"
   ]
  },
  {
   "cell_type": "markdown",
   "id": "ca83fee4",
   "metadata": {},
   "source": [
    "##### lookign at Biplot for 2 principal components along with contributing variables."
   ]
  },
  {
   "cell_type": "code",
   "execution_count": null,
   "id": "7845d1be",
   "metadata": {},
   "outputs": [],
   "source": [
    "pca.explained_variance_ratio_"
   ]
  },
  {
   "cell_type": "code",
   "execution_count": null,
   "id": "3cd1cc94",
   "metadata": {},
   "outputs": [],
   "source": [
    "print(abs( pca.components_ ))"
   ]
  },
  {
   "cell_type": "code",
   "execution_count": null,
   "id": "fab1abe0",
   "metadata": {},
   "outputs": [],
   "source": [
    "var_imp = df_song.select_dtypes(np.number)\n",
    "var_imp.head()"
   ]
  },
  {
   "cell_type": "code",
   "execution_count": null,
   "id": "295b7caa",
   "metadata": {},
   "outputs": [],
   "source": [
    "model = PCA(n_components=7).fit(X_temp)\n",
    "X_pc = model.transform(X_temp)\n",
    "\n",
    "# number of components\n",
    "n_pcs= model.components_.shape[0]\n",
    "\n",
    "# get the index of the most important feature on EACH component\n",
    "# LIST COMPREHENSION HERE\n",
    "most_important = [np.abs(model.components_[i]).argmax() for i in range(n_pcs)]\n",
    "\n",
    "initial_feature_names = ['valence','year','acousticness','danceability','duration_ms','energy','explicit','instrumentalness','key','liveness','loudness','mode','popularity','speechiness','tempo']\n",
    "# get the names\n",
    "most_important_names = [initial_feature_names[most_important[i]] for i in range(n_pcs)]\n",
    "\n",
    "# LIST COMPREHENSION HERE AGAIN\n",
    "dic = {'PC{}'.format(i): most_important_names[i] for i in range(n_pcs)}\n",
    "\n",
    "# build the dataframe\n",
    "df_car_imp = pd.DataFrame(dic.items())\n",
    "df_car_imp"
   ]
  },
  {
   "cell_type": "markdown",
   "id": "ace9ae76",
   "metadata": {},
   "source": [
    "##### We can see how different music elements contribute in subsequent principal components. "
   ]
  },
  {
   "cell_type": "code",
   "execution_count": null,
   "id": "569ecd71",
   "metadata": {},
   "outputs": [],
   "source": [
    "# #trying to show the clusters of songs in 3D\n",
    "# import plotly.express as px\n",
    "\n",
    "# pca_pipeline = Pipeline([('scaler', StandardScaler()), ('PCA', PCA(n_components=3))])\n",
    "# song_embedding = pca_pipeline.fit_transform(X)\n",
    "# projection = pd.DataFrame(columns=['x', 'y','z'], data=song_embedding)\n",
    "# projection['title'] = df_song['name']\n",
    "# projection['cluster'] = df_song['cluster_label']\n",
    "\n",
    "# fig = px.scatter_3d(projection, x='x', y='y',z='z', color='cluster', hover_data=['x', 'y','z', 'title'])\n",
    "# fig.show()\n",
    "\n"
   ]
  },
  {
   "cell_type": "markdown",
   "id": "02393a65",
   "metadata": {},
   "source": [
    "#### Recommendation System using Cosine Similarity\n",
    "###### Since we did not have the user ratings or song ratings, we chose to calculate cosine similarity with limited number of songs (top 50,000 popular songs) to demo our recommendation system..."
   ]
  },
  {
   "cell_type": "code",
   "execution_count": null,
   "id": "71614c65",
   "metadata": {},
   "outputs": [],
   "source": [
    "# tracks stores top 50,000 songs based on popularity\n",
    "from sklearn.metrics.pairwise import cosine_similarity\n",
    "tracks = df_song.sort_values(by=['popularity'], ascending=False).head(50000)"
   ]
  },
  {
   "cell_type": "code",
   "execution_count": null,
   "id": "d6f963b8",
   "metadata": {},
   "outputs": [],
   "source": [
    "# finding similarity of test song with all the songs including itself\n",
    "def get_similarities(song_name, data):\n",
    "   \n",
    "  # Getting vector for the input song.\n",
    "    num_array1 = data[data['name']==song_name].select_dtypes(include=np.number).to_numpy()\n",
    "   \n",
    "  # We will store similarity for each row of the dataset.\n",
    "    sim = []\n",
    "    for idx, row in data.iterrows():\n",
    "        name = row['name']\n",
    "\n",
    "        # Getting vector for current song.\n",
    "        num_array2 = data[data['name']==name].select_dtypes(include=np.number).to_numpy()\n",
    "\n",
    "        # Calculating similarities for numeric features of  song\n",
    "        num_sim = cosine_similarity(num_array1, num_array2)[0][0]\n",
    "        sim.append(num_sim)\n",
    "\n",
    "    return sim"
   ]
  },
  {
   "cell_type": "code",
   "execution_count": null,
   "id": "0f344c57",
   "metadata": {},
   "outputs": [],
   "source": [
    "# to get the cluster label for the recommended and test song\n",
    "def compare_cluster(recommended_songs):\n",
    "    #print (recommended_songs)\n",
    "    reco_check = recommended_songs.merge(df_song, on=['name','artists'], how='inner').loc[:,['name','artists','cluster_label_y']]\n",
    "    return reco_check"
   ]
  },
  {
   "cell_type": "code",
   "execution_count": null,
   "id": "d5d14e2c",
   "metadata": {},
   "outputs": [],
   "source": [
    "def recommend_songs(song_name, data=tracks):\n",
    "  # Base case: \n",
    "    if tracks[tracks['name'] == song_name].shape[0] == 0:\n",
    "        print('This song is either not so popular or you have entered invalid_name.\\n Some songs you may like:\\n')\n",
    "        # if the test song is not in the top 50,000 popular songs, it will recommend any 5 random songs\n",
    "        for song in data.sample(n=5)['name'].values:\n",
    "            print(song)\n",
    "        return\n",
    "        \n",
    "    # if the test song exists in tracks (top 50,000), so it will calculate similarities with each songs including itslef   \n",
    "    data['similarity_factor'] = get_similarities(song_name, data)\n",
    " \n",
    "    # sort the song based on the similarity factor and popularity\n",
    "    data.sort_values(by=['similarity_factor', 'popularity'],\n",
    "                   ascending = [False, False],\n",
    "                   inplace=True)\n",
    "   \n",
    "    # First song will be the input song itself as the similarity will be highest.\n",
    "#     print(data[['name', 'artists']][1:11].reset_index())\n",
    "#     print(type(data))\n",
    "    \n",
    "    # compare the clusters of the test song and the recommended song identified through K-means clustering above for df_song\n",
    "    reco_check = compare_cluster(data[0:11])\n",
    "    return reco_check"
   ]
  },
  {
   "cell_type": "code",
   "execution_count": null,
   "id": "6f2330b8",
   "metadata": {
    "scrolled": true
   },
   "outputs": [],
   "source": [
    "# getting the 5 sample songs from the original 50,000 songs in the tracks\n",
    "print(tracks.sample(n=5)['name'].values)"
   ]
  },
  {
   "cell_type": "code",
   "execution_count": null,
   "id": "6e8c5abb",
   "metadata": {
    "scrolled": true
   },
   "outputs": [],
   "source": [
    "# assuming that currently the user is listening to this song (\"Lemon\").. what will be the top 5 recommended songs\n",
    "reco_check = recommend_songs('Lemon')\n",
    "reco_check"
   ]
  },
  {
   "cell_type": "markdown",
   "id": "005358bf",
   "metadata": {},
   "source": [
    "#### Test Song 'Lemon' by N.E.R.D. -> 7 out of 10 Recommended songs belong to same cluster as 2\n",
    "#### Test Song ' Red Eye' by YoungBoy Never Broke Again\t --> 7 out of 10 Recommended songs belong to same cluster as 3\n"
   ]
  },
  {
   "cell_type": "code",
   "execution_count": null,
   "id": "49f29e49",
   "metadata": {},
   "outputs": [],
   "source": []
  }
 ],
 "metadata": {
  "kernelspec": {
   "display_name": "Python 3 (ipykernel)",
   "language": "python",
   "name": "python3"
  },
  "language_info": {
   "codemirror_mode": {
    "name": "ipython",
    "version": 3
   },
   "file_extension": ".py",
   "mimetype": "text/x-python",
   "name": "python",
   "nbconvert_exporter": "python",
   "pygments_lexer": "ipython3",
   "version": "3.9.12"
  }
 },
 "nbformat": 4,
 "nbformat_minor": 5
}
